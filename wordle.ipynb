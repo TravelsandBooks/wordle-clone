{
 "cells": [
  {
   "cell_type": "code",
   "execution_count": null,
   "id": "5bb4757b",
   "metadata": {},
   "outputs": [],
   "source": [
    "import pickle\n",
    "import secrets\n",
    "\n",
    "%load_ext nb_black"
   ]
  },
  {
   "cell_type": "code",
   "execution_count": null,
   "id": "a7d6895d",
   "metadata": {},
   "outputs": [],
   "source": [
    "with open(\"wordle_words.pkl\", \"rb\") as f:\n",
    "    list_of_words = pickle.load(f)\n",
    "\n",
    "list_of_words = [item.upper() for item in list_of_words]"
   ]
  },
  {
   "cell_type": "code",
   "execution_count": null,
   "id": "2d54c42e",
   "metadata": {},
   "outputs": [],
   "source": [
    "todays_word = (secrets.choice(list_of_words)).upper()"
   ]
  },
  {
   "cell_type": "code",
   "execution_count": null,
   "id": "22782ba4",
   "metadata": {},
   "outputs": [],
   "source": [
    "no_guesses = 0\n",
    "guesses_allowed = 5"
   ]
  },
  {
   "cell_type": "markdown",
   "id": "65e2a31a",
   "metadata": {},
   "source": [
    "<hr>"
   ]
  },
  {
   "cell_type": "code",
   "execution_count": null,
   "id": "905fc4a6",
   "metadata": {
    "scrolled": false
   },
   "outputs": [],
   "source": [
    "while no_guesses < guesses_allowed:\n",
    "\n",
    "    guess = input(\"\\n\\nMake a guess! \").upper()\n",
    "    no_guesses += 1\n",
    "\n",
    "    if len(guess) == 5:\n",
    "        if guess in list_of_words:\n",
    "            print(\n",
    "                f\"You've guessed {guess} and it's guess number {no_guesses}.\",\n",
    "                end=\"\\n\\n\",\n",
    "            )\n",
    "        else:\n",
    "            print(f\"{guess} isn't a word. Try again.\", end=\"\\n\\n\")\n",
    "            continue\n",
    "    else:\n",
    "        print(f\"{guess} isn't five letters. Try again.\", end=\"\\n\\n\")\n",
    "        continue\n",
    "\n",
    "    if guess == todays_word:\n",
    "        break\n",
    "\n",
    "    else:\n",
    "        for number in range(0, len(guess), 1):\n",
    "            if guess[number] == todays_word[number]:\n",
    "                print(f\"{guess[number]} is in the word, in the correct place.\")\n",
    "            elif guess[number] in list(todays_word):\n",
    "                print(f\"{guess[number]} is in the word, in the wrong place.\")\n",
    "            else:\n",
    "                print(f\"{guess[number]} is not in the word.\")\n",
    "\n",
    "if guess == todays_word:\n",
    "    print(\n",
    "        f\"\"\"\n",
    "    You guessed:     {guess}\n",
    "    The answer is... {todays_word}!\n",
    "    Congrats! It took you {no_guesses} guesses!\"\"\"\n",
    "    )\n",
    "\n",
    "else:\n",
    "    print(f\"\\n\\nYou're out of guesses. The word was {todays_word}!\")"
   ]
  }
 ],
 "metadata": {
  "kernelspec": {
   "display_name": "Python 3",
   "language": "python",
   "name": "python3"
  },
  "language_info": {
   "codemirror_mode": {
    "name": "ipython",
    "version": 3
   },
   "file_extension": ".py",
   "mimetype": "text/x-python",
   "name": "python",
   "nbconvert_exporter": "python",
   "pygments_lexer": "ipython3",
   "version": "3.7.11"
  }
 },
 "nbformat": 4,
 "nbformat_minor": 5
}
